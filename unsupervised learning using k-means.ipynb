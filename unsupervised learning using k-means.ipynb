{
 "cells": [
  {
   "cell_type": "code",
   "execution_count": 1,
   "metadata": {},
   "outputs": [],
   "source": [
    "# Common Clustering Applications"
   ]
  },
  {
   "cell_type": "code",
   "execution_count": 2,
   "metadata": {},
   "outputs": [
    {
     "name": "stdout",
     "output_type": "stream",
     "text": [
      "     Object   X_value   Y_value   Z_value\n",
      "0  Object 1  1.635659 -1.203514  2.735715\n",
      "1  Object 2 -1.541167  8.304239  9.145951\n",
      "2  Object 3  0.509782 -1.029048  1.951280\n",
      "3  Object 4  1.113869  3.823410  2.243731\n",
      "4  Object 5  0.354763 -1.207036  2.724951\n"
     ]
    }
   ],
   "source": [
    "# Imports\n",
    "from sklearn.datasets import make_blobs\n",
    "\n",
    "n = 30\n",
    "# Generate 3D data points\n",
    "X, _ = make_blobs(n_samples=n, centers=3, n_features=3,\n",
    "                 cluster_std=0.5,  random_state=0)\n",
    "\n",
    "# Convert the data points into a pandas DataFrame\n",
    "import pandas as pd\n",
    "\n",
    "# Generate indicators for the data points\n",
    "obj_names = []\n",
    "for i in range(1, n+1):\n",
    "    obj = \"Object \" + str(i)\n",
    "    obj_names.append(obj)\n",
    "\n",
    "# Create a pandas DataFrame with the names and (x, y) coordinates\n",
    "data = pd.DataFrame({\n",
    "    'Object': obj_names,\n",
    "    'X_value': X[:, 0],\n",
    "    'Y_value': X[:, 1],\n",
    "    'Z_value': X[:, 2]\n",
    "})\n",
    "\n",
    "# Preview the data\n",
    "print(data.head())\n"
   ]
  },
  {
   "cell_type": "code",
   "execution_count": 3,
   "metadata": {},
   "outputs": [
    {
     "name": "stdout",
     "output_type": "stream",
     "text": [
      "[[ 1.02994472  4.32198471  2.74409119]\n",
      " [-1.37352075  7.94795684  9.36628123]\n",
      " [ 0.77380753 -1.47382131  2.67387946]\n",
      " [-0.33954078  8.25958693  8.48045348]\n",
      " [ 1.07844111  4.65786213  1.77386642]]\n",
      "[2 1 2 0 2 1 0 2 2 2 3 4 4 1 1 4 2 0 4 0 0 0 2 1 1 2 1 2 3 1]\n"
     ]
    }
   ],
   "source": [
    "# Using scikit-learn to perform K-Means clustering\n",
    "from sklearn.cluster import KMeans\n",
    "    \n",
    "# Specify the number of clusters (3) and fit the data X\n",
    "kmeans = KMeans(n_clusters=5, random_state=0).fit(X)\n",
    "\n",
    "# Get the cluster centroids\n",
    "print(kmeans.cluster_centers_)\n",
    "    \n",
    "# Get the cluster labels\n",
    "print(kmeans.labels_)"
   ]
  },
  {
   "cell_type": "code",
   "execution_count": 4,
   "metadata": {},
   "outputs": [
    {
     "data": {
      "image/png": "[encoded data removed]",
      "text/plain": [
       "<Figure size 432x288 with 1 Axes>"
      ]
     },
     "metadata": {
      "needs_background": "light"
     },
     "output_type": "display_data"
    }
   ],
   "source": [
    "%matplotlib inline\n",
    "# 2D clustering\n",
    "import matplotlib.pyplot as plt\n",
    "# Plotting the cluster centers and the data points on a 2D plane\n",
    "\n",
    "plt.scatter(X[:, 0], X[:, 1])\n",
    "    \n",
    "plt.scatter(kmeans.cluster_centers_[:, 0], kmeans.cluster_centers_[:, 1], c='red', marker='x')\n",
    "    \n",
    "plt.title('Data points and cluster centroids')\n",
    "plt.show()"
   ]
  },
  {
   "cell_type": "code",
   "execution_count": 5,
   "metadata": {},
   "outputs": [],
   "source": [
    "\n",
    "#%matplotlib inline\n",
    "\n",
    "%matplotlib qt\n",
    "\n",
    "from mpl_toolkits import mplot3d\n",
    "# Plotting the cluster centers and the data points on a 2D plane\n",
    "fig = plt.figure()\n",
    "ax = plt.axes(projection='3d')\n",
    "\n",
    "\n",
    "ax.scatter3D(X[:, 0], X[:, 1], X[:, 2])\n",
    "    \n",
    "ax.scatter3D(kmeans.cluster_centers_[:, 0], kmeans.cluster_centers_[:, 1], kmeans.cluster_centers_[:, 2], c='red', marker='x')\n",
    "    \n",
    "plt.title('Data points and cluster centroids')\n",
    "plt.show()"
   ]
  },
  {
   "cell_type": "code",
   "execution_count": null,
   "metadata": {},
   "outputs": [],
   "source": []
  }
 ],
 "metadata": {
  "kernelspec": {
   "display_name": "Python 3 (ipykernel)",
   "language": "python",
   "name": "python3"
  },
  "language_info": {
   "codemirror_mode": {
    "name": "ipython",
    "version": 3
   },
   "file_extension": ".py",
   "mimetype": "text/x-python",
   "name": "python",
   "nbconvert_exporter": "python",
   "pygments_lexer": "ipython3",
   "version": "3.9.12"
  }
 },
 "nbformat": 4,
 "nbformat_minor": 4
}
